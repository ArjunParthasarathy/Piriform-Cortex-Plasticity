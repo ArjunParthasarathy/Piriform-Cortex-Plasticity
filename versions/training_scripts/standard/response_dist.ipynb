{
 "cells": [
  {
   "cell_type": "code",
   "execution_count": 1,
   "id": "cc4fbc6b56b8cbae",
   "metadata": {
    "ExecuteTime": {
     "end_time": "2024-06-26T21:21:01.589070Z",
     "start_time": "2024-06-26T21:21:00.247185Z"
    },
    "collapsed": false
   },
   "outputs": [],
   "source": [
    "import torch\n",
    "import numpy as np\n",
    "import scipy\n",
    "import matplotlib.pyplot as plt"
   ]
  },
  {
   "cell_type": "code",
   "execution_count": 2,
   "id": "80a1147c4c0a6f95",
   "metadata": {
    "ExecuteTime": {
     "end_time": "2024-06-26T21:21:01.674460Z",
     "start_time": "2024-06-26T21:21:01.572766Z"
    },
    "collapsed": false
   },
   "outputs": [
    {
     "name": "stdout",
     "output_type": "stream",
     "text": [
      "NVIDIA GeForce RTX 3060\n"
     ]
    }
   ],
   "source": [
    "gpu = torch.device(\"cuda:0\")\n",
    "print(torch.cuda.get_device_name(0))\n",
    "\n",
    "# Use smaller network for testing - ex 2000 neurons\n",
    "# Even for the project, doing it for 10^6 neurons would take too long\n",
    "# Problem this creates: test network is denser than actual network b/c we have 10^3 neurons but 10^2 connections per neuron\n",
    "num_neurons = 2000\n",
    "num_i = int(0.1 * num_neurons)\n",
    "num_e = int(0.9 * num_neurons)\n",
    "\n",
    "# Num excitatory inputs and inhibitory inputs to each neuron (in reality it should be 500 but we reduce it here to make things faster)\n",
    "k = 100\n",
    "\n",
    "# Number of olfactory bulb channels (glomeruli) to each neuron\n",
    "D = 10 ** 3\n",
    "# For each neuron, how many glomeruli inputs it receives (should be 10^2)\n",
    "num_channel_inputs = 100\n",
    "\n",
    "# Channel signal if not active for odor a\n",
    "i_0 = 2.\n",
    "# Channel signal if active for odor a\n",
    "i_1 = 10.\n",
    "# Probability that a channel is active for an odor a\n",
    "f = 0.1\n",
    "# Number of odors\n",
    "P = 16\n",
    "# Novel activity is up to P // 2, and familiar activity is after\n",
    "novel_inds = torch.arange(0, P // 2)\n",
    "familiar_inds = torch.arange(P // 2, P)"
   ]
  },
  {
   "cell_type": "code",
   "execution_count": 3,
   "id": "d4e13c61f25818ba",
   "metadata": {
    "ExecuteTime": {
     "end_time": "2024-06-26T21:21:01.674701Z",
     "start_time": "2024-06-26T21:21:01.618843Z"
    },
    "collapsed": false
   },
   "outputs": [],
   "source": [
    "# Creates sparse adjacency matrix with the given probability of edge connection and size mxn\n",
    "def create_adj_matrix(p, m, n):\n",
    "    # num_connections = int(p * m * n)\n",
    "    # m_coords = torch.randint(0, m, (num_connections,))\n",
    "    # n_coords = torch.randint(0, n, (num_connections,))\n",
    "    # indices = torch.vstack((m_coords, n_coords))\n",
    "    # values = torch.ones(num_connections)\n",
    "    # A_mn = torch.sparse_coo_tensor(indices, values, (m, n))\n",
    "    probs = torch.ones(m, n) * p\n",
    "    A_mn = torch.bernoulli(probs)\n",
    "    return A_mn"
   ]
  },
  {
   "cell_type": "code",
   "execution_count": 4,
   "id": "c6b94961ca601610",
   "metadata": {
    "ExecuteTime": {
     "end_time": "2024-06-26T21:21:01.674776Z",
     "start_time": "2024-06-26T21:21:01.623718Z"
    },
    "collapsed": false
   },
   "outputs": [],
   "source": [
    "# New way of generating correlations between odors: we want different sets of odors to be correlated differently, so that when we subtract each neuron's mean activity over odors, it doesn't cancel out the variation between odors (if all the odors are correlated the same, they will tend to produce similar values for a single neuron and therefore subtracting by the mean will remove these values and only leave small fluctuations)\n",
    "# So we sample a small set of odors P' and make them linearly independent, and then by multiplying by a P'x P gaussian matrix we project into mitral cell activity space for all P odors, basically making the P odors a linear combination of the set of P' odors (the smaller P' is, the more correlated the resulting set of P odors will be)\n",
    "# We also scale the variance depending on how small P' is, so we will maintain differently correlated odors, just with higher total correlation if P' is small"
   ]
  },
  {
   "cell_type": "code",
   "execution_count": 5,
   "id": "28887b0933bdd67a",
   "metadata": {
    "ExecuteTime": {
     "end_time": "2024-06-26T21:21:01.674809Z",
     "start_time": "2024-06-26T21:21:01.646095Z"
    },
    "collapsed": false
   },
   "outputs": [],
   "source": [
    "P_prime = 4\n",
    "def correlated_mitral_activity():\n",
    "    # Each of the P' odors is independent (correlation of 0)\n",
    "    sigma_p_prime = torch.zeros((P_prime, P_prime)).fill_diagonal_(1)\n",
    "    dist = torch.distributions.MultivariateNormal(torch.zeros(P_prime), sigma_p_prime)\n",
    "    p_prime_activity = dist.sample(torch.Size([D]))\n",
    "    var = 1 / P_prime\n",
    "    projection = torch.normal(torch.zeros((P_prime, P)), torch.ones(P_prime, P) * np.sqrt(var))\n",
    "    activity = p_prime_activity @ projection\n",
    "    return activity.to(gpu)"
   ]
  },
  {
   "cell_type": "code",
   "execution_count": 6,
   "id": "67da2d3fe4b6a081",
   "metadata": {
    "ExecuteTime": {
     "end_time": "2024-06-26T21:21:01.674839Z",
     "start_time": "2024-06-26T21:21:01.646356Z"
    },
    "collapsed": false
   },
   "outputs": [],
   "source": [
    "# Takes in mitral activity I and computes feedforward activity h_bar_ff\n",
    "def compute_feedforward_activity(I):\n",
    "    # Probability that a channel weight will be nonzero\n",
    "    p = num_channel_inputs / D\n",
    "    # Only the first 0.9 * n rows should have this bernoulli number, the rest should be 0 b/c they don't receive a channel input\n",
    "    # Check whether each neuron still receives ~10^2 nonzero inputs or what the distribution actually looks like\n",
    "    # Because when we calculate the adjacency matrix we don't go by row (e.g ensuring each neuron has these ~10^2 connections)\n",
    "    # Alternative: sample from Binomial distribution w/ mean 100\n",
    "    # The output n for each row is the number of nonzero inputs, and you choose a random subset n of the indices for that row and make them 1\n",
    "    with torch.device(gpu):\n",
    "        a = create_adj_matrix(p, num_e, D)\n",
    "        # Inhibitory neurons don't receive channel input\n",
    "        # This is the first simplification, where we neglect the first inhibitory layer I_ff\n",
    "        b = torch.zeros(size=(num_i, D))\n",
    "        W_ff = torch.cat(tensors=(a, b), dim=0)\n",
    "        \n",
    "        h_ff = (W_ff @ I) * (1 / np.sqrt(num_channel_inputs))\n",
    "        h_bar_ff = torch.zeros_like(h_ff)\n",
    "        h_bar_ff[:num_e] = h_ff[:num_e] - torch.mean(h_ff[:num_e], dim=0, keepdim=True)\n",
    "    return h_bar_ff"
   ]
  },
  {
   "cell_type": "code",
   "execution_count": 7,
   "id": "b23d7ccb6f4b0787",
   "metadata": {
    "ExecuteTime": {
     "end_time": "2024-06-26T21:21:01.674869Z",
     "start_time": "2024-06-26T21:21:01.650677Z"
    },
    "collapsed": false
   },
   "outputs": [],
   "source": [
    "def compute_initial_recurrent_weights():\n",
    "    k_ee = k_ei = k_ie = k_ii = k\n",
    "    #p_ee = k_ee / num_e\n",
    "    # k inhibitory inputs to that e neuron, out of num_i total inhibitory neurons gives the connection probability per neuron\n",
    "    p_ei = k_ei / num_i\n",
    "    p_ie = k_ie / num_e\n",
    "    #p_ii = k_ii / num_i\n",
    "    \n",
    "    # Constants\n",
    "    #w_ee = 0.1\n",
    "    w_ei = 0.2\n",
    "    w_ie = 0.5\n",
    "    #w_ii = 0.3\n",
    "    # Ignore ee and ii weights for now:\n",
    "    p_ee = p_ii = w_ee = w_ii = 0\n",
    "    with torch.device(gpu):\n",
    "        W_ee = create_adj_matrix(p_ee, num_e, num_e) * w_ee\n",
    "        W_ei = create_adj_matrix(p_ei, num_e, num_i) * -w_ei\n",
    "        W_ie = create_adj_matrix(p_ie, num_i, num_e) * w_ie\n",
    "        W_ii = create_adj_matrix(p_ii, num_i, num_i) * -w_ii\n",
    "        \n",
    "        # Concat\n",
    "        W_1 = torch.cat(tensors=(W_ee, W_ei), dim=1)\n",
    "        W_2 = torch.cat(tensors=(W_ie, W_ii), dim=1)\n",
    "        W_rec = torch.cat(tensors=(W_1, W_2), dim=0)\n",
    "    \n",
    "    return W_rec"
   ]
  },
  {
   "cell_type": "code",
   "execution_count": 8,
   "id": "65ae3fd6edb6a55b",
   "metadata": {
    "ExecuteTime": {
     "end_time": "2024-06-26T21:21:01.674902Z",
     "start_time": "2024-06-26T21:21:01.654583Z"
    },
    "collapsed": false
   },
   "outputs": [],
   "source": [
    "# Computes activation threshold for neurons, right now set it at 0\n",
    "def compute_threshold():\n",
    "    threshold = torch.zeros((num_neurons, P), device=gpu)\n",
    "    # Since inhibitory neurons are linear\n",
    "    threshold[num_e:, :] = 0\n",
    "    return threshold"
   ]
  },
  {
   "cell_type": "code",
   "execution_count": 9,
   "id": "1ce5f8670e8cb95e",
   "metadata": {
    "ExecuteTime": {
     "end_time": "2024-06-26T21:21:01.674949Z",
     "start_time": "2024-06-26T21:21:01.657906Z"
    },
    "collapsed": false
   },
   "outputs": [],
   "source": [
    "# ReLU for excitatory, linear for inhibitory\n",
    "def neuron_activations(X):\n",
    "    # Mask to keep excitatory\n",
    "    mask1 = torch.ones((num_neurons, 1), device=gpu)\n",
    "    mask1[num_e:, :] = 0\n",
    "    # Mask to keep inhibitory\n",
    "    mask2 = torch.zeros((num_neurons, 1), device=gpu)\n",
    "    mask2[num_e:, :] = 1\n",
    "    return (torch.relu(X) * mask1) + (X * mask2)"
   ]
  },
  {
   "cell_type": "code",
   "execution_count": 10,
   "id": "14aa733bbbadf1db",
   "metadata": {
    "ExecuteTime": {
     "end_time": "2024-06-26T21:21:01.675005Z",
     "start_time": "2024-06-26T21:21:01.662811Z"
    },
    "collapsed": false
   },
   "outputs": [],
   "source": [
    "# Computes R for each odor, with the activation threshold theta\n",
    "def compute_piriform_response(h_bar_ff, W_rec):\n",
    "    # The coefficient of x_bar\n",
    "    tau = 1\n",
    "    # time step\n",
    "    dt = 0.1\n",
    "    # Number of time steps\n",
    "    T = 200\n",
    "    \n",
    "    # Initial condition where states are gaussian\n",
    "    mu_0 = 0.\n",
    "    sigma_0 = 0.2\n",
    "    X_0 = torch.normal(mu_0, sigma_0, size=(num_neurons, P))\n",
    "    X = X_0.to(gpu)\n",
    "    \n",
    "    pts = []\n",
    "    for i in range(T-2):\n",
    "        with torch.no_grad():\n",
    "            part1 = -1 * X\n",
    "            part2 = (W_rec @ neuron_activations(X)) * (1 / np.sqrt(k))\n",
    "            part3 = h_bar_ff\n",
    "            dXdt = (1 / tau) * (part1 + part2 + part3)\n",
    "            X = X + (dXdt * dt)\n",
    "        # Look at convergence pattern for first odor, assuming that it'll\n",
    "        # be similar across odors (since they are all independent)\n",
    "        #pts.append(torch.mean(dXdt, dim=0)[0].item())\n",
    "   \n",
    "    # On the last 2 iterations only, track the gradient\n",
    "    X.requires_grad_(True)\n",
    "    \n",
    "    for j in range(2):\n",
    "        part1 = -1 * X\n",
    "        part2 = (W_rec @ neuron_activations(X)) * (1 / np.sqrt(k))\n",
    "        part3 = h_bar_ff\n",
    "        dXdt = (1 / tau) * (part1 + part2 + part3)\n",
    "        X = X + (dXdt * dt)\n",
    "    \n",
    "    # The total input to the neuron at this last time step (should be equivalent to the resulting value of X after this time step, since dxdt = 0 after the recurrent network converges)\n",
    "    #total_input = part2 + part3\n",
    "    threshold = compute_threshold()\n",
    "    \n",
    "    # Plot derivatives to see if state converged\n",
    "    # plt.plot(torch.arange(T-2), pts)\n",
    "    # plt.show()\n",
    "    R = neuron_activations(X - threshold)\n",
    "    \n",
    "    return R"
   ]
  },
  {
   "cell_type": "code",
   "execution_count": 11,
   "id": "a1cd6e5a0aa03ae7",
   "metadata": {
    "ExecuteTime": {
     "end_time": "2024-06-26T21:21:01.710783Z",
     "start_time": "2024-06-26T21:21:01.675394Z"
    },
    "collapsed": false
   },
   "outputs": [],
   "source": [
    "# Start and stop indices for the section of W_rec we want to update, respectively \n",
    "# Takes in R_alpha, a vector of neuron responses to a particular odor\n",
    "def compute_update(model: torch.nn.Sequential, R_alpha: torch.Tensor, update_inds) -> torch.Tensor:\n",
    "    # Compute the same pairs of R_i and R_j for every odor\n",
    "    # 1D vectors of the pre and postsynaptic neurons corresponding to the nonzero weights of W_rec\n",
    "    postsyn_responses = R_alpha[update_inds[0]]\n",
    "    presyn_responses = R_alpha[update_inds[1]]\n",
    "    model_input = torch.vstack((presyn_responses, postsyn_responses)).t()\n",
    "    slice_updates = model(model_input)\n",
    "    \n",
    "    updates = slice_updates.squeeze(dim=1)\n",
    "    \n",
    "    return updates"
   ]
  },
  {
   "cell_type": "code",
   "execution_count": 12,
   "id": "8fddd10d4a2c6b68",
   "metadata": {
    "ExecuteTime": {
     "start_time": "2024-06-26T21:21:01.679564Z"
    },
    "collapsed": false
   },
   "outputs": [],
   "source": [
    "def odor_corrs(R):\n",
    "    # We don't care about the actual responses per odor, just about a neuron's fluctuations around its mean response across odors\n",
    "    R_adjusted = R[:num_e, familiar_inds] - torch.mean(R[:num_e, familiar_inds], dim=1, keepdim=True)\n",
    "    # Each odor becomes a variable, because we want to calculate correlations between them across neurons\n",
    "    R_adjusted.t_()\n",
    "    # Like cov but divides by standard deviations, effectively normalizing the values (the diagonals of the resulting matrix become 1)\n",
    "    sigma_E = torch.corrcoef(R_adjusted)\n",
    "    # We only care about the correlations between the familiar odors\n",
    "    familiar_corrs = sigma_E - torch.eye(P // 2, device=gpu)\n",
    "    corr_sum = torch.sum(familiar_corrs ** 2)\n",
    "    avg_corr = torch.mean(torch.abs(familiar_corrs))\n",
    "    \n",
    "    return corr_sum, avg_corr"
   ]
  },
  {
   "cell_type": "code",
   "execution_count": 13,
   "id": "a531a34a2ac62b8b",
   "metadata": {
    "ExecuteTime": {
     "start_time": "2024-06-26T21:21:01.718688Z"
    },
    "collapsed": false
   },
   "outputs": [],
   "source": [
    "# Sparsity per odor, across all (E) neurons\n",
    "def sparsity_per_odor(R):\n",
    "    # Epsilon for if we have zero responses\n",
    "    eps = 1e-6\n",
    "    sp_per_odor = 1 - ((torch.sum(R[:num_e], dim=0) ** 2 + eps) / (num_e * (torch.sum(R[:num_e] ** 2, dim=0)) + eps))\n",
    "    # Sparsity nan means that the responses were all 0 for an odor, meaning that its max sparsity of 1\n",
    "    return sp_per_odor\n",
    "\n",
    "# Sparsity per (E) neuron, across a given odor family\n",
    "def sparsity_per_neuron(R, odor_inds):\n",
    "    sp_per_neuron = 1 - (\n",
    "                (torch.sum(R[:num_e, odor_inds], dim=1) ** 2) / ((P // 2) * torch.sum(R[:num_e, odor_inds] ** 2, dim=1)))\n",
    "    return sp_per_neuron"
   ]
  },
  {
   "cell_type": "code",
   "execution_count": 14,
   "id": "1003ae68e7009d39",
   "metadata": {
    "ExecuteTime": {
     "start_time": "2024-06-26T21:21:01.684703Z"
    },
    "collapsed": false
   },
   "outputs": [],
   "source": [
    "# Try to minimize the correlations between values\n",
    "def loss_fn(R, lambda_corr, lambda_i, lambda_mu, lambda_var, lambda_sp, do_print=True):\n",
    "    corr_sum, avg_corr = odor_corrs(R)\n",
    "    corr_loss = (1 / P) * corr_sum\n",
    "    corr_term = lambda_corr * corr_loss\n",
    "    \n",
    "    means = torch.mean(R, dim=0)\n",
    "    means_novel = torch.mean(means[novel_inds])\n",
    "    means_familiar = torch.mean(means[familiar_inds])\n",
    "    mu_term = lambda_mu * (((means_familiar - means_novel) / (means_novel + means_familiar)) ** 2)\n",
    "    \n",
    "    vars = torch.var(R, dim=0)\n",
    "    var_novel = torch.mean(vars[novel_inds])\n",
    "    var_familiar = torch.mean(vars[familiar_inds])\n",
    "    var_term = lambda_var * (((var_familiar - var_novel) / (var_novel + var_familiar)) ** 2)\n",
    "    \n",
    "    sparsities = sparsity_per_odor(R)\n",
    "    spars_novel = torch.mean(sparsities[novel_inds])\n",
    "    spars_familiar = torch.mean(sparsities[familiar_inds])\n",
    "    spars_term = lambda_sp * (((spars_familiar - spars_novel) / (spars_novel + spars_familiar)) ** 2)\n",
    "\n",
    "    sum_i = torch.sum(R[num_e:, :] ** 2) / (num_i * P)\n",
    "    i_term = lambda_i * sum_i\n",
    "    \n",
    "    if do_print:\n",
    "        #print(\"Avg Corr: %.4f, Corr: %.4f, Mu: %.4f, Var: %.4f, Sparsity: %.4f\" % (avg_corr, corr_term, mu_term, var_term, spars_term))\n",
    "        print(\"Avg Corr: %.4f, Corr: %.4f, I: %.4f, Sparsity: %.4f\" % (avg_corr, corr_term, i_term, spars_term))\n",
    "    loss = corr_term + i_term + mu_term + var_term + spars_term\n",
    "    return loss"
   ]
  },
  {
   "cell_type": "code",
   "execution_count": 15,
   "id": "70723f2b6444f1b2",
   "metadata": {
    "ExecuteTime": {
     "start_time": "2024-06-27T20:21:40.268967Z"
    },
    "collapsed": false
   },
   "outputs": [],
   "source": [
    "mult = 100\n",
    "w_ie = 0.5\n",
    "ie_max_weight = mult * w_ie\n",
    "ie_min_weight = 0\n",
    "\n",
    "w_ei = -0.2\n",
    "ei_max_weight = 0\n",
    "ei_min_weight = mult * w_ei\n",
    "\n",
    "ie_post = (num_e, num_neurons)\n",
    "ie_pre = (0, num_e)\n",
    "\n",
    "ei_post = (0, num_e)\n",
    "ei_pre = (num_e, num_neurons)\n",
    "\n",
    "def run_model():\n",
    "    W_initial = compute_initial_recurrent_weights()\n",
    "        \n",
    "    i = correlated_mitral_activity()\n",
    "    hbar_ff = compute_feedforward_activity(i)   \n",
    "    R_initial = compute_piriform_response(hbar_ff, W_initial)\n",
    "    \n",
    "    _, avg_corr = odor_corrs(R_initial)\n",
    "    print(f\"Avg corr: {avg_corr}\", end=\"\")\n",
    "    \n",
    "    odor_corrs(R_initial)\n",
    "    \n",
    "    return W_initial, R_initial"
   ]
  },
  {
   "cell_type": "code",
   "execution_count": 16,
   "id": "f71a3c003d203de9",
   "metadata": {
    "ExecuteTime": {
     "start_time": "2024-06-27T20:21:40.981199Z"
    },
    "collapsed": false
   },
   "outputs": [
    {
     "name": "stdout",
     "output_type": "stream",
     "text": [
      "Avg corr: 0.2686738669872284"
     ]
    }
   ],
   "source": [
    "W_initial, R_initial = run_model()"
   ]
  },
  {
   "cell_type": "code",
   "execution_count": 17,
   "id": "f5441828",
   "metadata": {},
   "outputs": [],
   "source": [
    "def generate_response_plots(R):\n",
    "    rows, cols = 4, 4\n",
    "    size=10\n",
    "    fig, ax = plt.subplots(nrows=rows, ncols=cols, constrained_layout=True, sharey=True, figsize=(size, size))\n",
    "    for i in range(rows):\n",
    "        for j in range(cols):\n",
    "            #R_plot = R[:num_e, i*rows + j][torch.nonzero(R[:num_e, i*rows + j], as_tuple=True)]\n",
    "            R_plot = R[:num_e, i*cols + j]\n",
    "            ax[i, j].hist(R_plot, bins=50, histtype=\"step\", cumulative=True)\n",
    "            coding_level = torch.count_nonzero(R[:num_e, i*cols + j]).item() / num_e\n",
    "            ax[i, j].text(0.2, 0.5, f\"Coding level: {coding_level:.3f}\", fontsize=10, transform=ax[i, j].transAxes)\n",
    "            ax[i, j].set_title(f\"Odor {i*cols + j}\")\n",
    "            \n",
    "\n",
    "    fig.suptitle(\"Cumulative Dist of Excitatory Responses per Odor\")\n",
    "    plt.show()"
   ]
  },
  {
   "cell_type": "code",
   "execution_count": 18,
   "id": "328fcf26",
   "metadata": {},
   "outputs": [
    {
     "data": {
      "image/png": "[encoded data removed]",
      "text/plain": [
       "<Figure size 1000x1000 with 16 Axes>"
      ]
     },
     "metadata": {},
     "output_type": "display_data"
    }
   ],
   "source": [
    "generate_response_plots(R_initial.detach().cpu())"
   ]
  },
  {
   "cell_type": "code",
   "execution_count": null,
   "id": "3211da50",
   "metadata": {},
   "outputs": [],
   "source": []
  }
 ],
 "metadata": {
  "kernelspec": {
   "display_name": "venv",
   "language": "python",
   "name": "python3"
  },
  "language_info": {
   "codemirror_mode": {
    "name": "ipython",
    "version": 3
   },
   "file_extension": ".py",
   "mimetype": "text/x-python",
   "name": "python",
   "nbconvert_exporter": "python",
   "pygments_lexer": "ipython3",
   "version": "3.10.12 (main, Sep 11 2024, 15:47:36) [GCC 11.4.0]"
  },
  "vscode": {
   "interpreter": {
    "hash": "0f64f3bee69275d7dadabcd164c00bee7a237ebc40dc30e8b43706029d0d9fbd"
   }
  }
 },
 "nbformat": 4,
 "nbformat_minor": 5
}
