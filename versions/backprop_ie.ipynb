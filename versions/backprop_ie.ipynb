{
 "cells": [
  {
   "cell_type": "code",
   "execution_count": 1,
   "id": "initial_id",
   "metadata": {
    "ExecuteTime": {
     "end_time": "2024-06-26T21:21:00.806764Z",
     "start_time": "2024-06-26T21:21:00.245100Z"
    },
    "collapsed": true
   },
   "outputs": [],
   "source": [
    "# !pip install numpy\n",
    "# !pip install scipy\n",
    "# !pip install torch\n",
    "# !pip install matplotlib"
   ]
  },
  {
   "cell_type": "code",
   "execution_count": 2,
   "id": "cc4fbc6b56b8cbae",
   "metadata": {
    "ExecuteTime": {
     "end_time": "2024-06-26T21:21:01.589070Z",
     "start_time": "2024-06-26T21:21:00.247185Z"
    },
    "collapsed": false
   },
   "outputs": [],
   "source": [
    "import torch\n",
    "import numpy as np\n",
    "import scipy\n",
    "import matplotlib.pyplot as plt"
   ]
  },
  {
   "cell_type": "code",
   "execution_count": 3,
   "id": "80a1147c4c0a6f95",
   "metadata": {
    "ExecuteTime": {
     "end_time": "2024-06-26T21:21:01.674460Z",
     "start_time": "2024-06-26T21:21:01.572766Z"
    },
    "collapsed": false
   },
   "outputs": [
    {
     "name": "stdout",
     "output_type": "stream",
     "text": [
      "NVIDIA GeForce RTX 3060\n"
     ]
    }
   ],
   "source": [
    "gpu = torch.device(\"cuda:0\")\n",
    "print(torch.cuda.get_device_name(0))\n",
    "\n",
    "# Use smaller network for testing - ex 2000 neurons\n",
    "# Even for the project, doing it for 10^6 neurons would take too long\n",
    "# Problem this creates: test network is denser than actual network b/c we have 10^3 neurons but 10^2 connections per neuron\n",
    "num_neurons = 2000\n",
    "num_i = int(0.1 * num_neurons)\n",
    "num_e = int(0.9 * num_neurons)\n",
    "\n",
    "# Num excitatory inputs and inhibitory inputs to each neuron (in reality it should be 500 but we reduce it here to make things faster)\n",
    "k = 100\n",
    "\n",
    "# Number of olfactory bulb channels (glomeruli) to each neuron\n",
    "D = 10 ** 3\n",
    "# For each neuron, how many glomeruli inputs it receives (should be 10^2)\n",
    "num_channel_inputs = 100\n",
    "\n",
    "# Channel signal if not active for odor a\n",
    "i_0 = 2.\n",
    "# Channel signal if active for odor a\n",
    "i_1 = 10.\n",
    "# Probability that a channel is active for an odor a\n",
    "f = 0.1\n",
    "# Number of odors\n",
    "P = 16\n",
    "# Novel activity is up to P // 2, and familiar activity is after\n",
    "novel_inds = torch.arange(0, P // 2)\n",
    "familiar_inds = torch.arange(P // 2, P)"
   ]
  },
  {
   "cell_type": "code",
   "execution_count": 4,
   "id": "d4e13c61f25818ba",
   "metadata": {
    "ExecuteTime": {
     "end_time": "2024-06-26T21:21:01.674701Z",
     "start_time": "2024-06-26T21:21:01.618843Z"
    },
    "collapsed": false
   },
   "outputs": [],
   "source": [
    "# Creates sparse adjacency matrix with the given probability of edge connection and size mxn\n",
    "def create_adj_matrix(p, m, n):\n",
    "    # num_connections = int(p * m * n)\n",
    "    # m_coords = torch.randint(0, m, (num_connections,))\n",
    "    # n_coords = torch.randint(0, n, (num_connections,))\n",
    "    # indices = torch.vstack((m_coords, n_coords))\n",
    "    # values = torch.ones(num_connections)\n",
    "    # A_mn = torch.sparse_coo_tensor(indices, values, (m, n))\n",
    "    probs = torch.ones(m, n) * p\n",
    "    A_mn = torch.bernoulli(probs)\n",
    "    return A_mn"
   ]
  },
  {
   "cell_type": "code",
   "execution_count": 5,
   "id": "c6b94961ca601610",
   "metadata": {
    "ExecuteTime": {
     "end_time": "2024-06-26T21:21:01.674776Z",
     "start_time": "2024-06-26T21:21:01.623718Z"
    },
    "collapsed": false
   },
   "outputs": [],
   "source": [
    "# New way of generating correlations between odors: we want different sets of odors to be correlated differently, so that when we subtract each neuron's mean activity over odors, it doesn't cancel out the variation between odors (if all the odors are correlated the same, they will tend to produce similar values for a single neuron and therefore subtracting by the mean will remove these values and only leave small fluctuations)\n",
    "# So we sample a small set of odors P' and make them linearly independent, and then by multiplying by a P'x P gaussian matrix we project into mitral cell activity space for all P odors, basically making the P odors a linear combination of the set of P' odors (the smaller P' is, the more correlated the resulting set of P odors will be)\n",
    "# We also scale the variance depending on how small P' is, so we will maintain differently correlated odors, just with higher total correlation if P' is small"
   ]
  },
  {
   "cell_type": "code",
   "execution_count": 6,
   "id": "28887b0933bdd67a",
   "metadata": {
    "ExecuteTime": {
     "end_time": "2024-06-26T21:21:01.674809Z",
     "start_time": "2024-06-26T21:21:01.646095Z"
    },
    "collapsed": false
   },
   "outputs": [],
   "source": [
    "P_prime = 4\n",
    "def correlated_mitral_activity():\n",
    "    # Each of the P' odors is independent (correlation of 0)\n",
    "    sigma_p_prime = torch.zeros((P_prime, P_prime)).fill_diagonal_(1)\n",
    "    dist = torch.distributions.MultivariateNormal(torch.zeros(P_prime), sigma_p_prime)\n",
    "    p_prime_activity = dist.sample(torch.Size([D]))\n",
    "    var = 1 / P_prime\n",
    "    projection = torch.normal(torch.zeros((P_prime, P)), torch.ones(P_prime, P) * np.sqrt(var))\n",
    "    activity = p_prime_activity @ projection\n",
    "    return activity.to(gpu)"
   ]
  },
  {
   "cell_type": "code",
   "execution_count": 7,
   "id": "67da2d3fe4b6a081",
   "metadata": {
    "ExecuteTime": {
     "end_time": "2024-06-26T21:21:01.674839Z",
     "start_time": "2024-06-26T21:21:01.646356Z"
    },
    "collapsed": false
   },
   "outputs": [],
   "source": [
    "# Takes in mitral activity I and computes feedforward activity h_bar_ff\n",
    "def compute_feedforward_activity(I):\n",
    "    # Probability that a channel weight will be nonzero\n",
    "    p = num_channel_inputs / D\n",
    "    # Only the first 0.9 * n rows should have this bernoulli number, the rest should be 0 b/c they don't receive a channel input\n",
    "    # Check whether each neuron still receives ~10^2 nonzero inputs or what the distribution actually looks like\n",
    "    # Because when we calculate the adjacency matrix we don't go by row (e.g ensuring each neuron has these ~10^2 connections)\n",
    "    # Alternative: sample from Binomial distribution w/ mean 100\n",
    "    # The output n for each row is the number of nonzero inputs, and you choose a random subset n of the indices for that row and make them 1\n",
    "    with torch.device(gpu):\n",
    "        a = create_adj_matrix(p, num_e, D)\n",
    "        # Inhibitory neurons don't receive channel input\n",
    "        # This is the first simplification, where we neglect the first inhibitory layer I_ff\n",
    "        b = torch.zeros(size=(num_i, D))\n",
    "        W_ff = torch.cat(tensors=(a, b), dim=0)\n",
    "        \n",
    "        h_ff = (W_ff @ I) * (1 / np.sqrt(num_channel_inputs))\n",
    "        h_bar_ff = torch.zeros_like(h_ff)\n",
    "        h_bar_ff[:num_e] = h_ff[:num_e] - torch.mean(h_ff[:num_e], dim=0, keepdim=True)\n",
    "    return h_bar_ff"
   ]
  },
  {
   "cell_type": "code",
   "execution_count": 8,
   "id": "b23d7ccb6f4b0787",
   "metadata": {
    "ExecuteTime": {
     "end_time": "2024-06-26T21:21:01.674869Z",
     "start_time": "2024-06-26T21:21:01.650677Z"
    },
    "collapsed": false
   },
   "outputs": [],
   "source": [
    "def compute_initial_recurrent_weights():\n",
    "    k_ee = k_ei = k_ie = k_ii = k\n",
    "    #p_ee = k_ee / num_e\n",
    "    # k inhibitory inputs to that e neuron, out of num_i total inhibitory neurons gives the connection probability per neuron\n",
    "    p_ei = k_ei / num_i\n",
    "    p_ie = k_ie / num_e\n",
    "    #p_ii = k_ii / num_i\n",
    "    \n",
    "    # Constants\n",
    "    #w_ee = 0.1\n",
    "    w_ei = 0.2\n",
    "    w_ie = 0.5\n",
    "    #w_ii = 0.3\n",
    "    # Ignore ee and ii weights for now:\n",
    "    p_ee = p_ii = w_ee = w_ii = 0\n",
    "    with torch.device(gpu):\n",
    "        W_ee = create_adj_matrix(p_ee, num_e, num_e) * w_ee\n",
    "        W_ei = create_adj_matrix(p_ei, num_e, num_i) * -w_ei\n",
    "        W_ie = create_adj_matrix(p_ie, num_i, num_e) * w_ie\n",
    "        W_ii = create_adj_matrix(p_ii, num_i, num_i) * -w_ii\n",
    "        \n",
    "        # Concat\n",
    "        W_1 = torch.cat(tensors=(W_ee, W_ei), dim=1)\n",
    "        W_2 = torch.cat(tensors=(W_ie, W_ii), dim=1)\n",
    "        W_rec = torch.cat(tensors=(W_1, W_2), dim=0)\n",
    "    \n",
    "    return W_rec"
   ]
  },
  {
   "cell_type": "code",
   "execution_count": 9,
   "id": "65ae3fd6edb6a55b",
   "metadata": {
    "ExecuteTime": {
     "end_time": "2024-06-26T21:21:01.674902Z",
     "start_time": "2024-06-26T21:21:01.654583Z"
    },
    "collapsed": false
   },
   "outputs": [],
   "source": [
    "# Computes activation threshold for neurons, based on the standard deviation of their firing rates across odors\n",
    "# This average standard deviation, multiplied by theta=2, ensures that each neuron will fire for only 5% of odors\n",
    "def compute_threshold(total_input, theta):\n",
    "    # For now, use diff thresholds for each neuron\n",
    "    center = torch.mean(total_input, dim=1, keepdim=True)\n",
    "    shift = torch.std(total_input, dim=1, keepdim=True)\n",
    "    threshold = center + (theta * shift)\n",
    "    # Since inhibitory neurons are linear\n",
    "    threshold[num_e:, :] = 0\n",
    "    return threshold"
   ]
  },
  {
   "cell_type": "code",
   "execution_count": 10,
   "id": "1ce5f8670e8cb95e",
   "metadata": {
    "ExecuteTime": {
     "end_time": "2024-06-26T21:21:01.674949Z",
     "start_time": "2024-06-26T21:21:01.657906Z"
    },
    "collapsed": false
   },
   "outputs": [],
   "source": [
    "# ReLU for excitatory, linear for inhibitory\n",
    "def neuron_activations(X):\n",
    "    # Mask to keep excitatory\n",
    "    mask1 = torch.ones((num_neurons, 1), device=gpu)\n",
    "    mask1[num_e:, :] = 0\n",
    "    # Mask to keep inhibitory\n",
    "    mask2 = torch.zeros((num_neurons, 1), device=gpu)\n",
    "    mask2[num_e:, :] = 1\n",
    "    return (torch.relu(X) * mask1) + (X * mask2)"
   ]
  },
  {
   "cell_type": "code",
   "execution_count": 11,
   "id": "14aa733bbbadf1db",
   "metadata": {
    "ExecuteTime": {
     "end_time": "2024-06-26T21:21:01.675005Z",
     "start_time": "2024-06-26T21:21:01.662811Z"
    },
    "collapsed": false
   },
   "outputs": [],
   "source": [
    "# Computes R for each odor, with the activation threshold theta\n",
    "def compute_piriform_response(h_bar_ff, W_rec, threshold_mult):\n",
    "    # The coefficient of x_bar\n",
    "    tau = 1\n",
    "    # time step\n",
    "    dt = 0.1\n",
    "    # Number of time steps\n",
    "    T = 200\n",
    "    \n",
    "    # Initial condition where states are gaussian\n",
    "    mu_0 = 0.\n",
    "    sigma_0 = 0.2\n",
    "    X_0 = torch.normal(mu_0, sigma_0, size=(num_neurons, P))\n",
    "    X = X_0.to(gpu)\n",
    "    \n",
    "    pts = []\n",
    "    for i in range(T-2):\n",
    "        with torch.no_grad():\n",
    "            part1 = -1 * X\n",
    "            part2 = (W_rec @ neuron_activations(X)) * (1 / np.sqrt(k))\n",
    "            part3 = h_bar_ff\n",
    "            dXdt = (1 / tau) * (part1 + part2 + part3)\n",
    "            X = X + (dXdt * dt)\n",
    "        # Look at convergence pattern for first odor, assuming that it'll\n",
    "        # be similar across odors (since they are all independent)\n",
    "        #pts.append(torch.mean(dXdt, dim=0)[0].item())\n",
    "   \n",
    "    # On the last 2 iterations only, track the gradient\n",
    "    X.requires_grad_(True)\n",
    "    \n",
    "    for j in range(2):\n",
    "        part1 = -1 * X\n",
    "        part2 = (W_rec @ neuron_activations(X)) * (1 / np.sqrt(k))\n",
    "        part3 = h_bar_ff\n",
    "        dXdt = (1 / tau) * (part1 + part2 + part3)\n",
    "        X = X + (dXdt * dt)\n",
    "    \n",
    "    # The total input to the neuron at this last time step (should be equivalent to the resulting value of X after this time step, since dxdt = 0 after the recurrent network converges)\n",
    "    total_input = part2 + part3\n",
    "    threshold = compute_threshold(total_input, threshold_mult)\n",
    "    \n",
    "    # Plot derivatives to see if state converged\n",
    "    # plt.plot(torch.arange(T-2), pts)\n",
    "    # plt.show()\n",
    "    R = neuron_activations(X - threshold)\n",
    "    \n",
    "    return R"
   ]
  },
  {
   "cell_type": "code",
   "execution_count": 12,
   "id": "defc0132008cbd72",
   "metadata": {
    "ExecuteTime": {
     "end_time": "2024-06-26T21:21:01.675040Z",
     "start_time": "2024-06-26T21:21:01.666119Z"
    },
    "collapsed": false
   },
   "outputs": [],
   "source": [
    "# Compute dimensionality of activity matrix R for either novel or familiar\n",
    "def compute_dim(R, odor_inds):\n",
    "    # Only compute for the excitatory neurons (b/c those are the ones that send signals to rest of brain\n",
    "    C = torch.cov(R[:num_e, odor_inds[0]:odor_inds[-1]])\n",
    "    dim = torch.trace(C) ** 2 / torch.trace(C @ C)\n",
    "    return dim\n",
    "\n",
    "# trace() is invariant for cyclic permutations of a matrix\n",
    "# Since C is symmetric, it can be orthogonally diagonalized into UDU^T where U is composed of orthonormal eigenvectors, U^T = U^-1, and D is a diagonal matrix of eigenvalues\n",
    "# therefore, trace(C) = trace(UDU^T) = trace(DU^TU) = trace(D) = sum(eigvals of C)\n",
    "# Similarly for the denominator, we need to compute the sum of the squared eigenvalues, which is trace(D^2). trace(D^2) = trace(D^2U^TU) = trace(UD^2U^T) = trace((UDU^T)^2)) [by the property of matrix exponentiation for a diagonalizable matrix] = trace(C^2) = trace(C @ C)"
   ]
  },
  {
   "cell_type": "code",
   "execution_count": 13,
   "id": "9b2eddcd771e4eb3",
   "metadata": {
    "ExecuteTime": {
     "end_time": "2024-06-26T21:21:01.675070Z",
     "start_time": "2024-06-26T21:21:01.668962Z"
    },
    "collapsed": false
   },
   "outputs": [],
   "source": [
    "# Dimensionalities should be similar before performing plasticity, upper bound on dimensionality is 8 b/c there are 8 odors each for novel/familiar (this is the rank of the cov matrix)\n",
    "# Measures how many orthogonal directions in neuron space are needed to explain the set of odors (the max number of orthogonal directions is the number of neurons themselves)\n",
    "# print(C_novel0)\n",
    "# print(C_familiar0)"
   ]
  },
  {
   "cell_type": "code",
   "execution_count": 14,
   "id": "a1cd6e5a0aa03ae7",
   "metadata": {
    "ExecuteTime": {
     "end_time": "2024-06-26T21:21:01.710783Z",
     "start_time": "2024-06-26T21:21:01.675394Z"
    },
    "collapsed": false
   },
   "outputs": [],
   "source": [
    "# Start and stop indices for the section of W_rec we want to update, respectively \n",
    "# Takes in R_alpha, a vector of neuron responses to a particular odor\n",
    "def compute_update(model: torch.nn.Sequential, R_alpha: torch.Tensor, update_inds) -> torch.Tensor:\n",
    "    # Compute the same pairs of R_i and R_j for every odor\n",
    "    # 1D vectors of the pre and postsynaptic neurons corresponding to the nonzero weights of W_rec\n",
    "    postsyn_responses = R_alpha[update_inds[0]]\n",
    "    presyn_responses = R_alpha[update_inds[1]]\n",
    "    model_input = torch.vstack((presyn_responses, postsyn_responses)).t()\n",
    "    slice_updates = model(model_input)\n",
    "    \n",
    "    updates = slice_updates.squeeze(dim=1)\n",
    "    \n",
    "    return updates"
   ]
  },
  {
   "cell_type": "code",
   "execution_count": 15,
   "id": "8fddd10d4a2c6b68",
   "metadata": {
    "ExecuteTime": {
     "start_time": "2024-06-26T21:21:01.679564Z"
    },
    "collapsed": false
   },
   "outputs": [],
   "source": [
    "def odor_corrs(R):\n",
    "    # We don't care about the actual responses per odor, just about a neuron's fluctuations around its mean response across odors\n",
    "    R_adjusted = R - torch.mean(R, dim=1, keepdim=True)\n",
    "    # Each odor becomes a variable, because we want to calculate correlations between them across neurons\n",
    "    R_adjusted.t_()\n",
    "    # Like cov but divides by standard deviations, effectively normalizing the values (the diagonals of the resulting matrix become 1)\n",
    "    sigma_E = torch.corrcoef(R_adjusted)\n",
    "    # We only care about the correlations between the familiar odors\n",
    "    familiar_corrs = sigma_E[P//2:P, P//2:P] - torch.eye(P // 2, device=gpu)\n",
    "    corr_sum = torch.sum(familiar_corrs ** 2)\n",
    "    avg_corr = torch.mean(torch.abs(familiar_corrs))\n",
    "    \n",
    "    return corr_sum, avg_corr"
   ]
  },
  {
   "cell_type": "code",
   "execution_count": 16,
   "id": "a531a34a2ac62b8b",
   "metadata": {
    "ExecuteTime": {
     "start_time": "2024-06-26T21:21:01.718688Z"
    },
    "collapsed": false
   },
   "outputs": [],
   "source": [
    "# Sparsity per odor, across all (E) neurons\n",
    "def sparsity_per_odor(R):\n",
    "    # Epsilon for if we have zero responses\n",
    "    eps = 1e-6\n",
    "    sp_per_odor = 1 - ((torch.sum(R[:num_e], dim=0) ** 2 + eps) / (num_e * (torch.sum(R[:num_e] ** 2, dim=0)) + eps))\n",
    "    # Sparsity nan means that the responses were all 0 for an odor, meaning that its max sparsity of 1\n",
    "    return sp_per_odor\n",
    "\n",
    "# Sparsity per (E) neuron, across a given odor family\n",
    "def sparsity_per_neuron(R, odor_inds):\n",
    "    sp_per_neuron = 1 - (\n",
    "                (torch.sum(R[:num_e, odor_inds], dim=1) ** 2) / ((P // 2) * torch.sum(R[:num_e, odor_inds] ** 2, dim=1)))\n",
    "    return sp_per_neuron"
   ]
  },
  {
   "cell_type": "code",
   "execution_count": 17,
   "id": "1003ae68e7009d39",
   "metadata": {
    "ExecuteTime": {
     "start_time": "2024-06-26T21:21:01.684703Z"
    },
    "collapsed": false
   },
   "outputs": [],
   "source": [
    "# Try to minimize the correlations between values\n",
    "def loss_fn(R, lambda_corr, lambda_mu, lambda_var, lambda_sp, do_print=True):\n",
    "    corr_sum, avg_corr = odor_corrs(R)\n",
    "    corr_loss = (1 / P) * corr_sum\n",
    "    corr_term = lambda_corr * corr_loss\n",
    "    \n",
    "    means = torch.mean(R, dim=0)\n",
    "    means_novel = torch.mean(means[novel_inds])\n",
    "    means_familiar = torch.mean(means[familiar_inds])\n",
    "    mu_term = lambda_mu * (((means_familiar - means_novel) / (means_novel + means_familiar)) ** 2)\n",
    "    \n",
    "    vars = torch.var(R, dim=0)\n",
    "    var_novel = torch.mean(vars[novel_inds])\n",
    "    var_familiar = torch.mean(vars[familiar_inds])\n",
    "    var_term = lambda_var * (((var_familiar - var_novel) / (var_novel + var_familiar)) ** 2)\n",
    "    \n",
    "    sparsities = sparsity_per_odor(R)\n",
    "    spars_novel = torch.mean(sparsities[novel_inds])\n",
    "    spars_familiar = torch.mean(sparsities[familiar_inds])\n",
    "    spars_term = lambda_sp * (((spars_familiar - spars_novel) / (spars_novel + spars_familiar)) ** 2)\n",
    "    \n",
    "    if do_print:\n",
    "        print(\"Avg Corr: %.4f, Corr: %.4f, Mu: %.4f, Var: %.4f, Sparsity: %.4f\" % (avg_corr, corr_term, mu_term, var_term, spars_term))\n",
    "    loss = corr_term + mu_term + var_term + spars_term\n",
    "    return loss"
   ]
  },
  {
   "cell_type": "code",
   "execution_count": 18,
   "id": "b7e8cc5982ed854c",
   "metadata": {
    "ExecuteTime": {
     "start_time": "2024-06-26T21:21:01.687501Z"
    },
    "collapsed": false
   },
   "outputs": [],
   "source": [
    "# Detaching vs zero grad - should detach because we have a term dependent on the previous model iteration which isn't zero but some constant gradient, accumulated from that model output"
   ]
  },
  {
   "cell_type": "code",
   "execution_count": 19,
   "id": "697460229b1c5f20",
   "metadata": {
    "ExecuteTime": {
     "start_time": "2024-06-26T21:21:01.689430Z"
    },
    "collapsed": false
   },
   "outputs": [],
   "source": [
    "# May need to reduce learning rate of model to prevent loss oscillations\n",
    "# Perform multiple updates in each set of inner epochs - we want to track the gradient from the past model updates as well w/o truncating it"
   ]
  },
  {
   "cell_type": "code",
   "execution_count": 20,
   "id": "1252ae4977d8dbf",
   "metadata": {
    "ExecuteTime": {
     "start_time": "2024-06-26T21:21:01.692832Z"
    },
    "collapsed": false
   },
   "outputs": [],
   "source": [
    "def loss_after_odors(W_rec: torch.Tensor, h_bar_ff: torch.Tensor, threshold_mult, lambda_corr, lambda_mu, lambda_var, lambda_sp, do_print):   \n",
    "    R_new = compute_piriform_response(h_bar_ff, W_rec, threshold_mult)\n",
    "    loss = loss_fn(R_new, lambda_corr, lambda_mu, lambda_var, lambda_sp, do_print)\n",
    "    \n",
    "    return loss, R_new"
   ]
  },
  {
   "cell_type": "code",
   "execution_count": 21,
   "id": "70bbe73c668f1e4e",
   "metadata": {
    "ExecuteTime": {
     "start_time": "2024-06-26T21:21:01.695175Z"
    },
    "collapsed": false
   },
   "outputs": [],
   "source": [
    "# To check theoretical minimum odor correlations, generate random gaussian matrix of shape (num_neurons, 8) and this is what the minimum correlation should be\n",
    "# mu = torch.zeros((num_neurons, 16))\n",
    "# std = torch.ones((num_neurons, 16))\n",
    "# R_random = torch.normal(mu, std)\n",
    "# loss_min = loss_fn(R_random)\n",
    "# Theoretical min of 0.05"
   ]
  },
  {
   "cell_type": "code",
   "execution_count": 22,
   "id": "70c09c7202ebd3f2",
   "metadata": {
    "ExecuteTime": {
     "start_time": "2024-06-26T21:21:01.698634Z"
    },
    "collapsed": false
   },
   "outputs": [],
   "source": [
    "def verify_initial_activities():\n",
    "    runs = 50\n",
    "    avg_corrs = torch.empty((runs,))\n",
    "    total_losses = torch.empty((runs,))\n",
    "    for i in range(runs):\n",
    "        with torch.no_grad():\n",
    "            a = correlated_mitral_activity()\n",
    "            h = compute_feedforward_activity(a)\n",
    "            w = compute_initial_recurrent_weights()\n",
    "            r = compute_piriform_response(h, w, 0)\n",
    "        total_loss, avg_corr = odor_corrs(r)\n",
    "        print(f\"Loss: {total_loss.item()}, Avg Corr: {avg_corr}\")\n",
    "        total_losses[i] = total_loss\n",
    "        avg_corrs[i] = avg_corr\n",
    "    plt.hist(avg_corrs, bins=15)\n",
    "    plt.show()"
   ]
  },
  {
   "cell_type": "code",
   "execution_count": 23,
   "id": "56d3ef26",
   "metadata": {},
   "outputs": [],
   "source": [
    "def get_update_inds(post, pre, W):\n",
    "    weights_slice = W[post[0]:post[1], pre[0]:pre[1]]\n",
    "    inds = torch.nonzero(weights_slice, as_tuple=True)\n",
    "    update_inds = (inds[0] + post[0], inds[1] + pre[0])\n",
    "    \n",
    "    return update_inds"
   ]
  },
  {
   "cell_type": "code",
   "execution_count": 24,
   "id": "70723f2b6444f1b2",
   "metadata": {
    "ExecuteTime": {
     "start_time": "2024-06-27T20:21:40.268967Z"
    },
    "collapsed": false
   },
   "outputs": [],
   "source": [
    "import torch.optim as optim\n",
    "epochs_inner = 1000\n",
    "# Number of standard deviations from mean, we are trying 0 b/c 1 and 2 is too sparse\n",
    "threshold_multiplier = 0\n",
    "\n",
    "lambda_corr, lambda_mu, lambda_var, lambda_sp = 1, 0, 0, 0\n",
    "\n",
    "corrs = torch.empty((epochs_inner,))\n",
    "\n",
    "mult = 100\n",
    "w_ie = 0.5\n",
    "ie_max_weight = mult * w_ie\n",
    "ie_min_weight = 0\n",
    "\n",
    "w_ei = -0.2\n",
    "ei_max_weight = 0\n",
    "ei_min_weight = mult * w_ei\n",
    "\n",
    "ie_post = (num_e, num_neurons)\n",
    "ie_pre = (0, num_e)\n",
    "\n",
    "ei_post = (0, num_e)\n",
    "ei_pre = (num_e, num_neurons)\n",
    "\n",
    "def train_model():\n",
    "    W_initial = compute_initial_recurrent_weights()\n",
    "    W_trained = W_initial.clone().to(gpu)\n",
    "    W_trained.requires_grad_(True)\n",
    "\n",
    "    ie_update_inds = get_update_inds(ie_post, ie_pre, W_trained)\n",
    "    ei_update_inds = get_update_inds(ei_post, ei_pre, W_trained)\n",
    "    \n",
    "    # Only update the relevant weights\n",
    "    def w_hook(grad):\n",
    "        new_grad = torch.zeros_like(grad)\n",
    "        new_grad[ie_update_inds] = grad[ie_update_inds]\n",
    "        return new_grad\n",
    "        \n",
    "    #optimizer = optim.SGD(model.parameters(), lr=1e-3, momentum=0.9)\n",
    "    W_trained.register_hook(w_hook)\n",
    "    optimizer = optim.Adam([W_trained], lr=1e-1)\n",
    "        \n",
    "    i = correlated_mitral_activity()\n",
    "    hbar_ff = compute_feedforward_activity(i)   \n",
    "    R_initial = compute_piriform_response(hbar_ff, W_trained, threshold_multiplier)\n",
    "    R_trained = R_initial.clone()\n",
    "    print(f\"Initial loss: \\t\", end=\"\")\n",
    "    loss_fn(R_initial, lambda_corr, lambda_mu, lambda_var, lambda_sp)\n",
    "    \n",
    "    clamp_min = torch.zeros_like(W_trained)\n",
    "    # I->E weights have lower negative bound\n",
    "    clamp_min[ei_update_inds] = ei_min_weight\n",
    "    # E->I weights are only positive\n",
    "    clamp_min[ie_update_inds] = ie_min_weight\n",
    "    clamp_max = torch.zeros_like(W_trained)\n",
    "    # E->I weights have higher positive bound\n",
    "    clamp_max[ie_update_inds] = ie_max_weight\n",
    "    # I->E weights are only negative\n",
    "    clamp_max[ei_update_inds] = ei_max_weight\n",
    "    \n",
    "    # if track_weights:\n",
    "    #     # Number of weights to track across iterations\n",
    "    #     num_samples = 100\n",
    "    #     track_inds = torch.randint(0, len(update_inds), size=(num_samples,))\n",
    "    #     W_tracked = torch.empty((epochs_inner, num_samples))\n",
    "    \n",
    "    for i in range(epochs_inner):\n",
    "        do_print=False\n",
    "        if (i % 100 == 0):\n",
    "            print(f\"Epoch {i}: \\t\", end=\"\")\n",
    "            do_print = True\n",
    "        loss, R_trained = loss_after_odors(W_trained, hbar_ff, threshold_multiplier, lambda_corr, lambda_mu, lambda_var, lambda_sp, do_print)\n",
    "        \n",
    "        corrs[i] = odor_corrs(R_trained)[1].item()\n",
    "        \n",
    "        \n",
    "        # if track_weights:\n",
    "        #     W_tracked[i, :] = W_trained[update_inds][track_inds].detach()\n",
    "        \n",
    "        loss.backward()   \n",
    "        optimizer.step()\n",
    "        optimizer.zero_grad()\n",
    "        \n",
    "        with torch.no_grad():\n",
    "            W_trained.clamp_(min=clamp_min, max=clamp_max)\n",
    "            \n",
    "    return ie_update_inds, W_initial, W_trained, R_initial, R_trained"
   ]
  },
  {
   "cell_type": "code",
   "execution_count": 25,
   "id": "f71a3c003d203de9",
   "metadata": {
    "ExecuteTime": {
     "start_time": "2024-06-27T20:21:40.981199Z"
    },
    "collapsed": false
   },
   "outputs": [
    {
     "name": "stdout",
     "output_type": "stream",
     "text": [
      "Initial loss: \tAvg Corr: 0.3153, Corr: 0.5778, Mu: 0.0000, Var: 0.0000, Sparsity: 0.0000\n",
      "Epoch 0: \tAvg Corr: 0.3153, Corr: 0.5778, Mu: 0.0000, Var: 0.0000, Sparsity: 0.0000\n",
      "Epoch 100: \tAvg Corr: 0.2275, Corr: 0.3396, Mu: 0.0000, Var: 0.0000, Sparsity: 0.0000\n",
      "Epoch 200: \tAvg Corr: 0.1635, Corr: 0.2045, Mu: 0.0000, Var: 0.0000, Sparsity: 0.0000\n",
      "Epoch 300: \tAvg Corr: 0.1421, Corr: 0.1523, Mu: 0.0000, Var: 0.0000, Sparsity: 0.0000\n",
      "Epoch 400: \tAvg Corr: 0.1273, Corr: 0.1221, Mu: 0.0000, Var: 0.0000, Sparsity: 0.0000\n",
      "Epoch 500: \tAvg Corr: 0.1205, Corr: 0.1032, Mu: 0.0000, Var: 0.0000, Sparsity: 0.0000\n",
      "Epoch 600: \tAvg Corr: 0.1129, Corr: 0.0901, Mu: 0.0000, Var: 0.0000, Sparsity: 0.0000\n",
      "Epoch 700: \tAvg Corr: 0.1051, Corr: 0.0789, Mu: 0.0000, Var: 0.0000, Sparsity: 0.0000\n",
      "Epoch 800: \tAvg Corr: 0.0989, Corr: 0.0689, Mu: 0.0000, Var: 0.0000, Sparsity: 0.0000\n",
      "Epoch 900: \tAvg Corr: 0.0970, Corr: 0.0620, Mu: 0.0000, Var: 0.0000, Sparsity: 0.0000\n"
     ]
    }
   ],
   "source": [
    "update_inds, W_initial, W_trained, R_initial, R_trained = train_model()"
   ]
  },
  {
   "cell_type": "code",
   "execution_count": 26,
   "id": "84dda3cbc91fdf5",
   "metadata": {
    "ExecuteTime": {
     "start_time": "2024-06-27T20:25:11.884552Z"
    },
    "collapsed": false
   },
   "outputs": [
    {
     "data": {
      "image/png": "[encoded data removed]",
      "text/plain": [
       "<Figure size 640x480 with 1 Axes>"
      ]
     },
     "metadata": {},
     "output_type": "display_data"
    }
   ],
   "source": [
    "with torch.no_grad():\n",
    "    plt.plot(torch.arange(epochs_inner), corrs)\n",
    "    plt.xlabel(\"Epochs\")\n",
    "    plt.ylabel(\"Average correlation\")\n",
    "    plt.title(\"Odor correlation across epochs\")"
   ]
  },
  {
   "cell_type": "code",
   "execution_count": 27,
   "id": "e17420f441e566",
   "metadata": {
    "ExecuteTime": {
     "start_time": "2024-06-27T20:25:11.988886Z"
    },
    "collapsed": false
   },
   "outputs": [
    {
     "data": {
      "image/png": "[encoded data removed]",
      "text/plain": [
       "<Figure size 640x480 with 1 Axes>"
      ]
     },
     "metadata": {},
     "output_type": "display_data"
    }
   ],
   "source": [
    "with torch.no_grad():\n",
    "    pct_change = ((W_trained[update_inds].cpu() - w_ie) / w_ie) * 100\n",
    "    plt.hist(pct_change, bins=100)\n",
    "    plt.yscale('log')\n",
    "    #plt.xlabel(\"Epochs\")\n",
    "    #plt.ylabel(\"Percent change\")"
   ]
  },
  {
   "cell_type": "code",
   "execution_count": 29,
   "id": "73017af6075cd45",
   "metadata": {
    "ExecuteTime": {
     "start_time": "2024-06-27T20:31:42.408487Z"
    },
    "collapsed": false
   },
   "outputs": [
    {
     "data": {
      "image/png": "[encoded data removed]",
      "text/plain": [
       "<Figure size 640x480 with 1 Axes>"
      ]
     },
     "metadata": {},
     "output_type": "display_data"
    }
   ],
   "source": [
    "with torch.no_grad():\n",
    "    initial_corrs = torch.corrcoef(R_initial)[update_inds].cpu()\n",
    "    initial_corrs, inds = torch.sort(initial_corrs)\n",
    "    plt.title(\"Corresponding weight value for correlation\")\n",
    "    plt.xlabel(\"Correlation\")\n",
    "    plt.ylabel(\"Weight value\")\n",
    "    plt.scatter(initial_corrs, W_initial[update_inds][inds].cpu())"
   ]
  },
  {
   "cell_type": "code",
   "execution_count": null,
   "id": "9a4281be7e5a5093",
   "metadata": {
    "ExecuteTime": {
     "start_time": "2024-06-27T20:31:43.530410Z"
    },
    "collapsed": false
   },
   "outputs": [
    {
     "data": {
      "image/png": "[encoded data removed]",
      "text/plain": [
       "<Figure size 640x480 with 1 Axes>"
      ]
     },
     "metadata": {},
     "output_type": "display_data"
    }
   ],
   "source": [
    "with torch.no_grad():\n",
    "    final_corrs = torch.corrcoef(R_trained)[update_inds]\n",
    "    final_corrs, inds = torch.sort(final_corrs)\n",
    "    plt.title(\"Corresponding weight value for correlation\")\n",
    "    plt.xlabel(\"Correlation\")\n",
    "    plt.ylabel(\"Weight value\")\n",
    "    plt.scatter(final_corrs, W_trained[update_inds][inds])"
   ]
  },
  {
   "cell_type": "code",
   "execution_count": null,
   "id": "8876d77ea9529269",
   "metadata": {
    "ExecuteTime": {
     "start_time": "2024-06-27T20:31:53.770099Z"
    },
    "collapsed": false
   },
   "outputs": [
    {
     "data": {
      "image/png": "[encoded data removed]",
      "text/plain": [
       "<Figure size 640x480 with 1 Axes>"
      ]
     },
     "metadata": {},
     "output_type": "display_data"
    }
   ],
   "source": [
    "with torch.no_grad():\n",
    "    plt.title(\"Distribution of correlations between neurons\")\n",
    "    plt.hist(initial_corrs, label=\"Before plasticity\")\n",
    "    plt.hist(final_corrs, label=\"After plasticity\")\n",
    "    plt.legend()\n",
    "    plt.show()"
   ]
  },
  {
   "cell_type": "code",
   "execution_count": null,
   "id": "4174ef7021b28193",
   "metadata": {
    "ExecuteTime": {
     "end_time": "2024-06-26T22:09:15.969524Z",
     "start_time": "2024-06-26T22:09:15.962418Z"
    },
    "collapsed": false
   },
   "outputs": [],
   "source": [
    "# with torch.no_grad():\n",
    "#     sp_per_odor_0 = sparsity_per_odor(R_initial)\n",
    "#     sp_per_odor_f = sparsity_per_odor(R_trained)\n",
    "# \n",
    "#     sp_per_neuron_novel_0 = sparsity_per_neuron(R_initial, novel_inds)\n",
    "#     sp_per_neuron_familiar_0 = sparsity_per_neuron(R_initial, familiar_inds)  \n",
    "#     sp_per_neuron_novel_f = sparsity_per_neuron(R_trained, novel_inds)\n",
    "#     sp_per_neuron_familiar_f = sparsity_per_neuron(R_trained, familiar_inds)\n",
    "#     \n",
    "#     plt.hist(sp_per_neuron_novel_0, cumulative=True, bins=num_e, histtype=\"step\", label=\"Novel, before plasticity\")\n",
    "#     plt.hist(sp_per_neuron_familiar_0, cumulative=True, bins=num_e, histtype=\"step\", label=\"Familiar, before plasticity\")\n",
    "#     plt.hist(sp_per_neuron_novel_f, cumulative=True, bins=num_e, histtype=\"step\", label=\"Novel, after plasticity\")\n",
    "#     plt.hist(sp_per_neuron_familiar_f, cumulative=True, bins=num_e, histtype=\"step\", label=\"Familiar, after plasticity\")\n",
    "#     plt.legend()\n",
    "#     plt.show()\n",
    "    "
   ]
  },
  {
   "cell_type": "code",
   "execution_count": null,
   "id": "e364ddf024ef041d",
   "metadata": {
    "ExecuteTime": {
     "end_time": "2024-07-23T22:33:22.806676Z",
     "start_time": "2024-07-23T22:33:22.802989Z"
    },
    "collapsed": false
   },
   "outputs": [],
   "source": [
    "def compute_model_stats():\n",
    "    runs = 10\n",
    "    spars_per_odor_0 = torch.empty((runs, P))\n",
    "    spars_per_odor_f = torch.empty((runs, P))\n",
    "    # Difference in sparsity per neuron (either across the neuron's novel or familiar responses) measured before and after training\n",
    "    spars_per_neuron_diff_0 = torch.empty((runs, num_e))\n",
    "    spars_per_neuron_diff_f = torch.empty((runs, num_e))\n",
    "    for i in range(runs):\n",
    "        print(f\"Run {i}\")\n",
    "        _, _, _, R_initial, R_trained = train_model()\n",
    "        spars_per_odor_f[i, :] = sparsity_per_odor(R_initial)\n",
    "        spars_per_odor_0[i, :] = sparsity_per_odor(R_trained)\n",
    "        \n",
    "        spars_per_neuron_diff_0[i, :] = sparsity_per_neuron(R_initial, familiar_inds) - sparsity_per_neuron(R_initial, novel_inds)\n",
    "        spars_per_neuron_diff_f[i, :] = sparsity_per_neuron(R_trained, familiar_inds) - sparsity_per_neuron(R_trained, novel_inds)\n",
    "    \n",
    "      \n",
    "    spars_per_odor_0 = torch.mean(spars_per_odor_0, dim=0)\n",
    "    spars_per_odor_f = torch.mean(spars_per_odor_f, dim=0)\n",
    "    spars_per_neuron_diff_0 = torch.mean(spars_per_neuron_diff_0, dim=0)\n",
    "    spars_per_neuron_diff_f = torch.mean(spars_per_neuron_diff_f, dim=0)\n",
    "    \n",
    "    return spars_per_odor_0, spars_per_odor_f, spars_per_neuron_diff_0, spars_per_neuron_diff_f\n",
    "        "
   ]
  },
  {
   "cell_type": "code",
   "execution_count": null,
   "id": "a344b99f2cc10b83",
   "metadata": {
    "ExecuteTime": {
     "end_time": "2024-07-23T22:33:33.979976Z",
     "start_time": "2024-07-23T22:33:33.827544Z"
    },
    "collapsed": false
   },
   "outputs": [],
   "source": [
    "#sp_per_odor_0, sp_per_odor_f, sp_per_neuron_diff_0, sp_per_neuron_diff_f = compute_model_stats()"
   ]
  },
  {
   "cell_type": "code",
   "execution_count": null,
   "id": "c7d394e16054b32c",
   "metadata": {
    "collapsed": false
   },
   "outputs": [],
   "source": [
    "# with torch.no_grad():\n",
    "#     bars_f = plt.bar([\"Mean of novel odor sparsities\", \"Mean of familiar odor sparsities\"], [torch.mean(sp_per_odor_f[novel_inds]), torch.mean(sp_per_odor_f[familiar_inds])], label=\"After plasticity\")\n",
    "#     bars_0 = plt.bar([\"Mean of novel odor sparsities\", \"Mean of familiar odor sparsities\"], [torch.mean(sp_per_odor_0[novel_inds]), torch.mean(sp_per_odor_0[familiar_inds])], label=\"Before plasticity\")\n",
    "#     \n",
    "#     plt.title(\"Means of sparsities for each odor family (before and after plasticity)\")\n",
    "#     plt.ylabel(\"Sparsity\")\n",
    "#     plt.legend()\n",
    "#     plt.show()"
   ]
  },
  {
   "cell_type": "code",
   "execution_count": null,
   "id": "6049f1f37f90e8f4",
   "metadata": {
    "ExecuteTime": {
     "end_time": "2024-06-26T22:15:09.457214Z",
     "start_time": "2024-06-26T22:15:09.448614Z"
    },
    "collapsed": false
   },
   "outputs": [],
   "source": [
    "# with torch.no_grad():\n",
    "#     a = torch.sum(torch.abs(sp_per_neuron_diff_0))\n",
    "#     b = torch.sum(torch.abs(sp_per_neuron_diff_f))\n",
    "#     #print(torch.count_nonzero(torch.isnan(sp_per_neuron_diff_f)))\n",
    "#     plt.title(\"Differences in sparsity per neuron (between odor families) before and after plasticity\")\n",
    "#     plt.bar([\"Before plasticity\", \"After plasticity\"], [a, b])\n",
    "#     plt.show()"
   ]
  },
  {
   "cell_type": "code",
   "execution_count": null,
   "id": "2bef798e5c803b03",
   "metadata": {
    "collapsed": false
   },
   "outputs": [],
   "source": []
  }
 ],
 "metadata": {
  "kernelspec": {
   "display_name": "venv",
   "language": "python",
   "name": "python3"
  },
  "language_info": {
   "codemirror_mode": {
    "name": "ipython",
    "version": 3
   },
   "file_extension": ".py",
   "mimetype": "text/x-python",
   "name": "python",
   "nbconvert_exporter": "python",
   "pygments_lexer": "ipython3",
   "version": "3.10.12 (main, Jul 29 2024, 16:56:48) [GCC 11.4.0]"
  },
  "vscode": {
   "interpreter": {
    "hash": "0f64f3bee69275d7dadabcd164c00bee7a237ebc40dc30e8b43706029d0d9fbd"
   }
  }
 },
 "nbformat": 4,
 "nbformat_minor": 5
}
